{
 "cells": [
  {
   "cell_type": "code",
   "execution_count": 2,
   "id": "c7b6e713-48d8-47b0-82d3-0c4d96fed4a5",
   "metadata": {},
   "outputs": [],
   "source": [
    "import pandas as pd\n",
    "import re\n",
    "import matplotlib.pyplot as plt\n",
    "from datetime import timedelta\n",
    "import numpy as np\n",
    "import seaborn"
   ]
  },
  {
   "cell_type": "code",
   "execution_count": 3,
   "id": "5a8655e2-efac-4cc7-aff0-731cbc571611",
   "metadata": {},
   "outputs": [],
   "source": [
    "coagulation_raw = pd.read_excel(\"blood coagulation.xlsx\")"
   ]
  },
  {
   "cell_type": "code",
   "execution_count": 4,
   "id": "817da603-c794-40cc-9277-97442bbe0d8d",
   "metadata": {},
   "outputs": [
    {
     "name": "stdout",
     "output_type": "stream",
     "text": [
      "Total number of patients: 1204\n"
     ]
    }
   ],
   "source": [
    "patients = pd.read_csv(\"ids.csv\")\n",
    "ids = patients[\"id\"].tolist()\n",
    "print(f\"Total number of patients: {len(ids)}\")"
   ]
  },
  {
   "cell_type": "code",
   "execution_count": 5,
   "id": "ee484f00-823d-4730-8995-eccd3170ed70",
   "metadata": {},
   "outputs": [],
   "source": [
    "coagulation_raw = coagulation_raw[coagulation_raw[\"Рег.№\"].isin(ids)]\n",
    "coagulation = coagulation_raw[[\"Рег.№\", \"Возр.\", \"Дата забора\", \"Результаты\"]].reset_index()\n",
    "coagulation = coagulation.dropna(subset = [\"Результаты\"])\n",
    "\n",
    "def filter_test_results(t_res):\n",
    "    t_res = str(t_res)\n",
    "    return re.sub(r\"\\d*\\.?\\d+\", \"\", t_res)"
   ]
  },
  {
   "cell_type": "code",
   "execution_count": 6,
   "id": "d0f65be1-e963-4ba3-99bc-12549ff499e7",
   "metadata": {},
   "outputs": [],
   "source": [
    "test_list  = coagulation[\"Результаты\"].apply(filter_test_results).unique().tolist()\n",
    "unique_tests = []\n",
    "for test in test_list:\n",
    "    tmp = test.split(\":\")\n",
    "    for t in tmp:\n",
    "        if t not in unique_tests:\n",
    "            unique_tests.append(t)\n",
    "\n",
    "unique_tests = [\"APTT\", \"PT\", \"INR\", \"FBG\", \"% PT\", \"TT\", \"AT%\", \"D-dimer\"]"
   ]
  },
  {
   "cell_type": "code",
   "execution_count": 7,
   "id": "a51dda11-b85f-4f82-9925-12c1994a1758",
   "metadata": {},
   "outputs": [],
   "source": [
    "coagulation[\"Результаты\"] = coagulation[\"Результаты\"].str.split(\";\")\n",
    "coagulation = coagulation.explode(\"Результаты\")"
   ]
  },
  {
   "cell_type": "code",
   "execution_count": 8,
   "id": "e5c79923-8a4a-4776-b464-4e1802584768",
   "metadata": {},
   "outputs": [],
   "source": [
    "def get_test_values(test):\n",
    "    # print(test)\n",
    "    res = []\n",
    "    test = str(test)\n",
    "    test = test.replace(\" \", \"\")\n",
    "    tmp = test.split(\":\")\n",
    "    if tmp[1] == \"\":\n",
    "        return []\n",
    "    # print(tmp)\n",
    "    for t in unique_tests:\n",
    "        if t in tmp[0]:\n",
    "            res.append(t)\n",
    "            # print(res)\n",
    "            break\n",
    "    if not len(res) == 1:\n",
    "        return []\n",
    "    res.append(re.search(r\"\\d*\\.?\\d+\", tmp[1])[0])\n",
    "    # print(res)\n",
    "    return res"
   ]
  },
  {
   "cell_type": "code",
   "execution_count": 9,
   "id": "87857d16-affb-4989-be58-b37a87b36145",
   "metadata": {},
   "outputs": [],
   "source": [
    "coagulation[\"Результаты\"] = coagulation[\"Результаты\"].apply(get_test_values)"
   ]
  },
  {
   "cell_type": "code",
   "execution_count": null,
   "id": "ec6dc483-cad3-4ea5-b8d9-22799678db4b",
   "metadata": {},
   "outputs": [],
   "source": [
    "coagulation[[\"Test\", \"Value\"]] = coagulation[\"Результаты\"].apply(pd.Series)\n",
    "coagulation = coagulation[[\"Рег.№\", \"Дата забора\", \"Test\", \"Value\"]]\n",
    "coagulation.to_excel(\"coagulation_parsed.xlsx\")"
   ]
  }
 ],
 "metadata": {
  "kernelspec": {
   "display_name": "Python 3 (ipykernel)",
   "language": "python",
   "name": "python3"
  },
  "language_info": {
   "codemirror_mode": {
    "name": "ipython",
    "version": 3
   },
   "file_extension": ".py",
   "mimetype": "text/x-python",
   "name": "python",
   "nbconvert_exporter": "python",
   "pygments_lexer": "ipython3",
   "version": "3.10.6"
  }
 },
 "nbformat": 4,
 "nbformat_minor": 5
}
